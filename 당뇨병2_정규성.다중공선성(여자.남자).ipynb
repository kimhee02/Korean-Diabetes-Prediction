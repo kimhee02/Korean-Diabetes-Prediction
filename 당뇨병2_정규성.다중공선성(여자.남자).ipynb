{
 "cells": [
  {
   "cell_type": "code",
   "execution_count": 1,
   "id": "17cb2be1-e118-4d3a-bb0d-e628848d47e9",
   "metadata": {},
   "outputs": [],
   "source": [
    "import pandas as pd\n",
    "import numpy as np\n",
    "\n",
    "male_df = pd.read_csv(\"C:/Users/JEONGHEE/Desktop/당뇨병플젝/male.csv\")\n",
    "female_df = pd.read_csv(\"C:/Users/JEONGHEE/Desktop/당뇨병플젝/female.csv\")"
   ]
  },
  {
   "cell_type": "code",
   "execution_count": 2,
   "id": "91e69484-fa27-48e4-98b4-8d53cb127012",
   "metadata": {},
   "outputs": [
    {
     "data": {
      "text/plain": [
       "(36558, 29)"
      ]
     },
     "execution_count": 2,
     "metadata": {},
     "output_type": "execute_result"
    }
   ],
   "source": [
    "male_df.shape"
   ]
  },
  {
   "cell_type": "code",
   "execution_count": 3,
   "id": "2243a183-5d74-424c-838c-13cd9f0225fa",
   "metadata": {},
   "outputs": [
    {
     "data": {
      "text/plain": [
       "(70308, 29)"
      ]
     },
     "execution_count": 3,
     "metadata": {},
     "output_type": "execute_result"
    }
   ],
   "source": [
    "female_df.shape"
   ]
  },
  {
   "cell_type": "code",
   "execution_count": 5,
   "id": "40edc82d-ba43-4603-94e6-2fe454c950e9",
   "metadata": {},
   "outputs": [],
   "source": [
    "# Step 1. 정규성 검정 (Shapiro-Wilk test)\n",
    "# Step 2. 등분산성 검정 (Levene’s test)\n",
    "\n",
    "# → 정규성 만족 & 등분산성 만족: 독립표본 t-test\n",
    "# → 정규성 만족 & 등분산성 X : Welch’s t-test\n",
    "# → 정규성 X : Mann-Whitney U test (aka Wilcoxon rank-sum)"
   ]
  },
  {
   "cell_type": "markdown",
   "id": "c31ca838-d0ad-4f0b-95e8-60037bc7dcb5",
   "metadata": {},
   "source": [
    "# 남자"
   ]
  },
  {
   "cell_type": "markdown",
   "id": "5f5ab239-b0fb-403a-90ce-d196f205cef9",
   "metadata": {},
   "source": [
    "## 등분산성.정규성 검정"
   ]
  },
  {
   "cell_type": "code",
   "execution_count": 4,
   "id": "e8000bc4-40fb-40dd-94d4-7e57eef6b30f",
   "metadata": {},
   "outputs": [],
   "source": [
    "from scipy.stats import ttest_ind, chi2_contingency\n",
    "\n",
    "target_col = 'target'\n",
    "\n",
    "def classify_variable(series, threshold=10):\n",
    "    if pd.api.types.is_numeric_dtype(series):\n",
    "        if series.nunique() <= threshold:\n",
    "            return 'categorical'\n",
    "        else:\n",
    "            return 'continuous'\n",
    "    else:\n",
    "        return 'categorical'\n",
    "\n",
    "var_types = {col: classify_variable(male_df[col]) for col in male_df.columns if col != target_col}\n",
    "continuous_vars = [col for col, typ in var_types.items() if typ == 'continuous']\n",
    "categorical_vars = [col for col, typ in var_types.items() if typ == 'categorical']\n",
    "\n",
    "# 그룹 분리\n",
    "group0 = male_df[male_df[target_col] == 0]\n",
    "group1 = male_df[male_df[target_col] == 1]"
   ]
  },
  {
   "cell_type": "code",
   "execution_count": 6,
   "id": "4ac41555-7fdf-4171-bb9f-136a955f5810",
   "metadata": {},
   "outputs": [
    {
     "name": "stdout",
     "output_type": "stream",
     "text": [
      "연속형 변수 t-test 결과:\n",
      "             변수          비당뇨 (평균±SD)           당뇨 (평균±SD)  p-value\n",
      "0       DS1_AGE         53.14 ± 8.73         54.75 ± 8.20  <0.0001\n",
      "1    DS1_WALKFQ  50696.16 ± 37051.81  53627.14 ± 35997.25   0.0019\n",
      "2     DS1_WALKT  50714.95 ± 37026.11  53643.59 ± 35972.75   0.0019\n",
      "3     DS1_WAIST         85.47 ± 7.47         88.87 ± 7.67  <0.0001\n",
      "4       DS1_HIP         96.02 ± 5.60         97.22 ± 6.16  <0.0001\n",
      "5     DS1_PULSE         68.38 ± 9.68        71.68 ± 10.58  <0.0001\n",
      "6       DS1_SBP       125.44 ± 14.34       130.96 ± 14.96  <0.0001\n",
      "7       DS1_DBP         78.70 ± 9.77         81.19 ± 9.70  <0.0001\n",
      "8       DS1_BMI         24.34 ± 2.73         25.45 ± 2.92  <0.0001\n",
      "9       DS1_PBF         23.29 ± 4.45         25.28 ± 4.24  <0.0001\n",
      "10  DS1_BODYFAT         16.45 ± 4.75         18.59 ± 5.21  <0.0001\n",
      "11   DS1_MUSCLE         49.01 ± 5.11         49.64 ± 5.57  <0.0001\n",
      "12   DS1_VISFAT          2.49 ± 1.02          2.96 ± 1.18  <0.0001\n",
      "13      DS1_WHR          0.89 ± 0.05          0.91 ± 0.05  <0.0001\n",
      "14     DS1_GLU0        93.18 ± 10.67       143.57 ± 37.83  <0.0001\n",
      "15    DS1_HBA1C          5.54 ± 0.34          7.06 ± 1.25  <0.0001\n",
      "16   total_exer          3.01 ± 4.34          2.94 ± 4.48   0.5345\n",
      "\n",
      "범주형 변수 카이제곱 결과:\n",
      "               변수  p-value\n",
      "0          DS1_ID   0.4975\n",
      "1         DS1_SEX   1.0000\n",
      "2         DS1_HTN  <0.0001\n",
      "3         DS1_FDM  <0.0001\n",
      "4        DS1_EXER   0.0003\n",
      "5        DS1_WALK   0.0021\n",
      "6   DS1_INCOME_RE   0.0028\n",
      "7      DS1_EDU_RE  <0.0001\n",
      "8    DS1_MARRY_RE   0.5324\n",
      "9    DS1_SMOKE_RE  <0.0001\n",
      "10   DS1_DRINK_RE   0.0457\n"
     ]
    }
   ],
   "source": [
    "#연속형 변수 → t-test\n",
    "ttest_results = []\n",
    "for var in continuous_vars:\n",
    "    try:\n",
    "        mean0, std0 = group0[var].mean(), group0[var].std()\n",
    "        mean1, std1 = group1[var].mean(), group1[var].std()\n",
    "        _, p_val = ttest_ind(group0[var], group1[var], nan_policy='omit')\n",
    "        ttest_results.append({\n",
    "            '변수': var,\n",
    "            '비당뇨 (평균±SD)': f'{mean0:.2f} ± {std0:.2f}',\n",
    "            '당뇨 (평균±SD)': f'{mean1:.2f} ± {std1:.2f}',\n",
    "            'p-value': f'{p_val:.4f}' if p_val >= 0.0001 else '<0.0001'\n",
    "        })\n",
    "    except:\n",
    "        continue\n",
    "\n",
    "ttest_df = pd.DataFrame(ttest_results)\n",
    "\n",
    "#범주형 변수 → 카이제곱 검정\n",
    "chi2_results = []\n",
    "for var in categorical_vars:\n",
    "    try:\n",
    "        table = pd.crosstab(male_df[var], male_df[target_col])\n",
    "        _, p_val, _, _ = chi2_contingency(table)\n",
    "        chi2_results.append({\n",
    "            '변수': var,\n",
    "            'p-value': f'{p_val:.4f}' if p_val >= 0.0001 else '<0.0001'\n",
    "        })\n",
    "    except:\n",
    "        continue\n",
    "\n",
    "chi2_df = pd.DataFrame(chi2_results)\n",
    "\n",
    "\n",
    "print(\"연속형 변수 t-test 결과:\")\n",
    "print(ttest_df)\n",
    "\n",
    "print(\"\\n범주형 변수 카이제곱 결과:\")\n",
    "print(chi2_df)"
   ]
  },
  {
   "cell_type": "code",
   "execution_count": 8,
   "id": "a5fcc5c5-1214-47ce-b475-41948cd080c3",
   "metadata": {},
   "outputs": [
    {
     "name": "stdout",
     "output_type": "stream",
     "text": [
      "Kolmogorov–Smirnov 정규성 검정 결과:\n",
      "             변수 Kolmogorov-Smirnov p-value 정규성 판단\n",
      "0       DS1_AGE                     0.0000    불만족\n",
      "1    DS1_WALKFQ                     0.0000    불만족\n",
      "2     DS1_WALKT                     0.0000    불만족\n",
      "3     DS1_WAIST                     0.0000    불만족\n",
      "4       DS1_HIP                     0.0000    불만족\n",
      "5     DS1_PULSE                     0.0000    불만족\n",
      "6       DS1_SBP                     0.0000    불만족\n",
      "7       DS1_DBP                     0.0000    불만족\n",
      "8       DS1_BMI                     0.0000    불만족\n",
      "9       DS1_PBF                     0.0000    불만족\n",
      "10  DS1_BODYFAT                     0.0000    불만족\n",
      "11   DS1_MUSCLE                     0.0000    불만족\n",
      "12   DS1_VISFAT                     0.0000    불만족\n",
      "13      DS1_WHR                     0.0000    불만족\n",
      "14     DS1_GLU0                     0.0000    불만족\n",
      "15    DS1_HBA1C                     0.0000    불만족\n",
      "16   total_exer                     0.0000    불만족\n"
     ]
    }
   ],
   "source": [
    "from scipy.stats import kstest\n",
    "\n",
    "ks_results = []\n",
    "\n",
    "for var in continuous_vars:\n",
    "    try:\n",
    "        data = male_df[var].dropna()\n",
    "        mean = data.mean()\n",
    "        std = data.std()\n",
    "\n",
    "        # 정규분포(mean, std)에 대해 K-S test 수행\n",
    "        stat, p_val = kstest(data, 'norm', args=(mean, std))\n",
    "\n",
    "        ks_results.append({\n",
    "            '변수': var,\n",
    "            'Kolmogorov-Smirnov p-value': f'{p_val:.4f}',\n",
    "            '정규성 판단': '만족' if p_val > 0.05 else '불만족'\n",
    "        })\n",
    "    except:\n",
    "        continue\n",
    "\n",
    "ks_df = pd.DataFrame(ks_results)\n",
    "\n",
    "\n",
    "print(\"Kolmogorov–Smirnov 정규성 검정 결과:\")\n",
    "print(ks_df)"
   ]
  },
  {
   "cell_type": "code",
   "execution_count": 9,
   "id": "c18f1638-8e9b-4306-952b-1e7adc4481f8",
   "metadata": {},
   "outputs": [],
   "source": [
    "# ##### 전부 불만족 \n",
    "# #### Mann–Whitney U test 적용"
   ]
  },
  {
   "cell_type": "code",
   "execution_count": 11,
   "id": "51fd8034-1db1-43cf-bfd1-561a70475a01",
   "metadata": {},
   "outputs": [
    {
     "name": "stdout",
     "output_type": "stream",
     "text": [
      "Mann–Whitney U test (비모수 검정) 결과:\n",
      "\n",
      "             변수  비당뇨 (중앙값)  당뇨 (중앙값)  p-value\n",
      "0       DS1_AGE      53.00     55.00  <0.0001\n",
      "1    DS1_WALKFQ   77777.00  77777.00   0.0003\n",
      "2     DS1_WALKT   77777.00  77777.00   0.0021\n",
      "3     DS1_WAIST      85.50     89.00  <0.0001\n",
      "4       DS1_HIP      96.00     97.00  <0.0001\n",
      "5     DS1_PULSE      68.00     71.00  <0.0001\n",
      "6       DS1_SBP     125.00    130.00  <0.0001\n",
      "7       DS1_DBP      80.00     80.00  <0.0001\n",
      "8       DS1_BMI      24.27     25.25  <0.0001\n",
      "9       DS1_PBF      23.70     25.60  <0.0001\n",
      "10  DS1_BODYFAT      16.40     18.20  <0.0001\n",
      "11   DS1_MUSCLE      48.60     49.20  <0.0001\n",
      "12   DS1_VISFAT       2.40      2.80  <0.0001\n",
      "13      DS1_WHR       0.89      0.91  <0.0001\n",
      "14     DS1_GLU0      92.00    134.00  <0.0001\n",
      "15    DS1_HBA1C       5.50      6.70  <0.0001\n",
      "16   total_exer       1.50      0.75   0.0147\n"
     ]
    }
   ],
   "source": [
    "from scipy.stats import mannwhitneyu\n",
    "\n",
    "mw_results = []\n",
    "\n",
    "for var in continuous_vars:\n",
    "    try:\n",
    "        data0 = group0[var].dropna()\n",
    "        data1 = group1[var].dropna()\n",
    "        _, p_val = mannwhitneyu(data0, data1, alternative='two-sided')\n",
    "        mw_results.append({\n",
    "            '변수': var,\n",
    "            '비당뇨 (중앙값)': round(data0.median(), 2),\n",
    "            '당뇨 (중앙값)': round(data1.median(), 2),\n",
    "            'p-value': f'{p_val:.4f}' if p_val >= 0.0001 else '<0.0001'\n",
    "        })\n",
    "    except:\n",
    "        continue\n",
    "\n",
    "\n",
    "mw_df = pd.DataFrame(mw_results)\n",
    "print(\"Mann–Whitney U test (비모수 검정) 결과:\\n\")\n",
    "print(mw_df)"
   ]
  },
  {
   "cell_type": "code",
   "execution_count": 12,
   "id": "b29619f7-4c86-4621-b64d-5ea4d2e46897",
   "metadata": {},
   "outputs": [],
   "source": [
    "###### p-value 유의미한 변수 17개 "
   ]
  },
  {
   "cell_type": "markdown",
   "id": "00ec522e-6d96-4a08-992f-70efc3f12ec7",
   "metadata": {},
   "source": [
    "## 다중공선성 "
   ]
  },
  {
   "cell_type": "code",
   "execution_count": 15,
   "id": "7d55d508-0dbd-49a6-8975-abe6c390a171",
   "metadata": {},
   "outputs": [
    {
     "name": "stdout",
     "output_type": "stream",
     "text": [
      "       Variable        VIF\n",
      "0         const   18132.32\n",
      "1       DS1_AGE       1.29\n",
      "2    DS1_WALKFQ 2395348.52\n",
      "3     DS1_WALKT 2395320.79\n",
      "4     DS1_WAIST     141.78\n",
      "5       DS1_HIP      67.08\n",
      "6     DS1_PULSE       1.05\n",
      "7       DS1_SBP       2.39\n",
      "8       DS1_DBP       2.34\n",
      "9       DS1_BMI       5.39\n",
      "10      DS1_PBF      22.46\n",
      "11  DS1_BODYFAT      34.91\n",
      "12   DS1_MUSCLE       5.99\n",
      "13   DS1_VISFAT       5.36\n",
      "14      DS1_WHR      60.44\n",
      "15     DS1_GLU0       1.05\n",
      "16   total_exer       1.06\n"
     ]
    }
   ],
   "source": [
    "# 남자 다중공선성\n",
    "from statsmodels.stats.outliers_influence import variance_inflation_factor\n",
    "from statsmodels.tools.tools import add_constant\n",
    "\n",
    "\n",
    "pd.set_option('display.float_format', '{:.2f}'.format)\n",
    "\n",
    "# 등분산 만족 + 연속형 변수만 사용 ('target'은 종속 변수라 제외)\n",
    "X = male_df[['DS1_AGE', 'DS1_WALKFQ', 'DS1_WALKT',\n",
    "             'DS1_WAIST', 'DS1_HIP', 'DS1_PULSE', 'DS1_SBP',\n",
    "             'DS1_DBP', 'DS1_BMI', 'DS1_PBF', 'DS1_BODYFAT',\n",
    "             'DS1_MUSCLE', 'DS1_VISFAT', 'DS1_WHR',\n",
    "             'DS1_GLU0', 'total_exer']]\n",
    "\n",
    "X_const = add_constant(X)\n",
    "\n",
    "# VIF 계산\n",
    "vif_data = pd.DataFrame()\n",
    "vif_data['Variable'] = X_const.columns\n",
    "vif_data['VIF'] = [variance_inflation_factor(X_const.values, i) for i in range(X_const.shape[1])]\n",
    "print(vif_data)"
   ]
  },
  {
   "cell_type": "code",
   "execution_count": null,
   "id": "813228c9-9bf8-4d59-a051-a525191a8b44",
   "metadata": {},
   "outputs": [],
   "source": []
  },
  {
   "cell_type": "code",
   "execution_count": null,
   "id": "1056aaf3-7007-4b59-81a4-1bbb55f2e0e5",
   "metadata": {},
   "outputs": [],
   "source": []
  },
  {
   "cell_type": "markdown",
   "id": "532f1c77-dc76-4e43-b741-c849aa1b1959",
   "metadata": {},
   "source": [
    "# 여자"
   ]
  },
  {
   "cell_type": "markdown",
   "id": "e2af8676-a873-41f8-8c8b-2d70aa4941fb",
   "metadata": {},
   "source": [
    "## 등분산성.정규성 검정"
   ]
  },
  {
   "cell_type": "code",
   "execution_count": 29,
   "id": "e02903be-9b76-48d6-8402-78756d991ce9",
   "metadata": {},
   "outputs": [],
   "source": [
    "\n",
    "from scipy.stats import ttest_ind, chi2_contingency, kstest, mannwhitneyu\n",
    "\n",
    "female_df = pd.read_csv(\"C:/Users/JEONGHEE/Desktop/당뇨병플젝/female.csv\")\n",
    "\n",
    "\n",
    "target_col = 'target'\n",
    "def classify_variable(series, threshold=10):\n",
    "    if pd.api.types.is_numeric_dtype(series):\n",
    "        if series.nunique() <= threshold:\n",
    "            return 'categorical'\n",
    "        else:\n",
    "            return 'continuous'\n",
    "    else:\n",
    "        return 'categorical'\n",
    "\n",
    "\n",
    "var_types = {col: classify_variable(female_df[col]) for col in female_df.columns if col != target_col}\n",
    "continuous_vars = [col for col, typ in var_types.items() if typ == 'continuous']\n",
    "categorical_vars = [col for col, typ in var_types.items() if typ == 'categorical']\n",
    "\n",
    "group0 = female_df[female_df[target_col] == 0]\n",
    "group1 = female_df[female_df[target_col] == 1]"
   ]
  },
  {
   "cell_type": "code",
   "execution_count": 34,
   "id": "a793ad63-9c65-48ac-b896-376431ac8c56",
   "metadata": {},
   "outputs": [
    {
     "name": "stdout",
     "output_type": "stream",
     "text": [
      "연속형 변수 t-test 결과:\n",
      "             변수          비당뇨 (평균±SD)           당뇨 (평균±SD)  p-value\n",
      "0       DS1_AGE         51.97 ± 7.88         55.84 ± 7.75  <0.0001\n",
      "1    DS1_WALKFQ  47291.38 ± 37968.63  50414.99 ± 37150.63   0.0009\n",
      "2     DS1_WALKT  47311.73 ± 37943.28  50433.47 ± 37125.55   0.0009\n",
      "3     DS1_WAIST         78.11 ± 8.09         84.29 ± 8.48  <0.0001\n",
      "4       DS1_HIP         93.55 ± 5.63         95.74 ± 6.66  <0.0001\n",
      "5     DS1_PULSE         69.24 ± 9.19         72.20 ± 9.91  <0.0001\n",
      "6       DS1_SBP       120.29 ± 15.17       128.65 ± 16.33  <0.0001\n",
      "7       DS1_DBP         74.53 ± 9.73         78.55 ± 9.81  <0.0001\n",
      "8       DS1_BMI         23.54 ± 2.90         25.75 ± 3.41  <0.0001\n",
      "9       DS1_PBF         30.50 ± 4.36         33.55 ± 4.09  <0.0001\n",
      "10  DS1_BODYFAT         17.82 ± 4.51         21.17 ± 5.23  <0.0001\n",
      "11   DS1_MUSCLE         36.54 ± 3.48         37.58 ± 4.06  <0.0001\n",
      "12   DS1_VISFAT          2.09 ± 0.88          2.72 ± 1.04  <0.0001\n",
      "13      DS1_WHR          0.83 ± 0.06          0.88 ± 0.06  <0.0001\n",
      "14     DS1_GLU0         89.63 ± 9.55       137.30 ± 43.46  <0.0001\n",
      "15    DS1_HBA1C          5.54 ± 0.33          7.07 ± 1.13  <0.0001\n",
      "16   total_exer          2.45 ± 3.65          2.27 ± 3.56   0.0426\n",
      "\n",
      "범주형 변수 카이제곱 결과:\n",
      "               변수  p-value\n",
      "0          DS1_ID   0.4982\n",
      "1         DS1_SEX   1.0000\n",
      "2         DS1_HTN  <0.0001\n",
      "3         DS1_FDM  <0.0001\n",
      "4        DS1_EXER   0.0147\n",
      "5        DS1_WALK   0.0010\n",
      "6   DS1_INCOME_RE  <0.0001\n",
      "7      DS1_EDU_RE  <0.0001\n",
      "8    DS1_MARRY_RE  <0.0001\n",
      "9    DS1_SMOKE_RE   0.0774\n",
      "10   DS1_DRINK_RE  <0.0001\n"
     ]
    }
   ],
   "source": [
    "# 1. 연속형 변수 → t-test\n",
    "ttest_results = []\n",
    "for var in continuous_vars:\n",
    "    try:\n",
    "        mean0, std0 = group0[var].mean(), group0[var].std()\n",
    "        mean1, std1 = group1[var].mean(), group1[var].std()\n",
    "        _, p_val = ttest_ind(group0[var], group1[var], nan_policy='omit')\n",
    "        ttest_results.append({\n",
    "            '변수': var,\n",
    "            '비당뇨 (평균±SD)': f'{mean0:.2f} ± {std0:.2f}',\n",
    "            '당뇨 (평균±SD)': f'{mean1:.2f} ± {std1:.2f}',\n",
    "            'p-value': f'{p_val:.4f}' if p_val >= 0.0001 else '<0.0001'\n",
    "        })\n",
    "    except:\n",
    "        continue\n",
    "\n",
    "ttest_df = pd.DataFrame(ttest_results)\n",
    "\n",
    "# 2. 범주형 변수 → 카이제곱 검정\n",
    "chi2_results = []\n",
    "for var in categorical_vars:\n",
    "    try:\n",
    "        table = pd.crosstab(female_df[var], female_df[target_col])\n",
    "        _, p_val, _, _ = chi2_contingency(table)\n",
    "        chi2_results.append({\n",
    "            '변수': var,\n",
    "            'p-value': f'{p_val:.4f}' if p_val >= 0.0001 else '<0.0001'\n",
    "        })\n",
    "    except:\n",
    "        continue\n",
    "\n",
    "chi2_df = pd.DataFrame(chi2_results)\n",
    "\n",
    "# 결과 출력\n",
    "print(\"연속형 변수 t-test 결과:\")\n",
    "print(ttest_df)\n",
    "\n",
    "print(\"\\n범주형 변수 카이제곱 결과:\")\n",
    "print(chi2_df)\n"
   ]
  },
  {
   "cell_type": "code",
   "execution_count": 31,
   "id": "8b25544c-b8e8-41d7-a7a8-abdadb0b30b9",
   "metadata": {},
   "outputs": [
    {
     "name": "stdout",
     "output_type": "stream",
     "text": [
      "\n",
      "Kolmogorov–Smirnov 정규성 검정 결과:\n",
      "             변수 Kolmogorov-Smirnov p-value 정규성 판단\n",
      "0       DS1_AGE                     0.0000    불만족\n",
      "1    DS1_WALKFQ                     0.0000    불만족\n",
      "2     DS1_WALKT                     0.0000    불만족\n",
      "3     DS1_WAIST                     0.0000    불만족\n",
      "4       DS1_HIP                     0.0000    불만족\n",
      "5     DS1_PULSE                     0.0000    불만족\n",
      "6       DS1_SBP                     0.0000    불만족\n",
      "7       DS1_DBP                     0.0000    불만족\n",
      "8       DS1_BMI                     0.0000    불만족\n",
      "9       DS1_PBF                     0.0000    불만족\n",
      "10  DS1_BODYFAT                     0.0000    불만족\n",
      "11   DS1_MUSCLE                     0.0000    불만족\n",
      "12   DS1_VISFAT                     0.0000    불만족\n",
      "13      DS1_WHR                     0.0000    불만족\n",
      "14     DS1_GLU0                     0.0000    불만족\n",
      "15    DS1_HBA1C                     0.0000    불만족\n",
      "16   total_exer                     0.0000    불만족\n"
     ]
    }
   ],
   "source": [
    "ks_results2 = []\n",
    "\n",
    "for var in continuous_vars:\n",
    "    try:\n",
    "        data = female_df[var].dropna()\n",
    "        mean = data.mean()\n",
    "        std = data.std()\n",
    "        stat, p_val = kstest(data, 'norm', args=(mean, std))\n",
    "        ks_results2.append({\n",
    "            '변수': var,\n",
    "            'Kolmogorov-Smirnov p-value': f'{p_val:.4f}',\n",
    "            '정규성 판단': '만족' if p_val > 0.05 else '불만족'\n",
    "        })\n",
    "    except:\n",
    "        continue\n",
    "\n",
    "ks_df2 = pd.DataFrame(ks_results2)\n",
    "\n",
    "print(\"\\nKolmogorov–Smirnov 정규성 검정 결과:\")\n",
    "print(ks_df2)"
   ]
  },
  {
   "cell_type": "code",
   "execution_count": 27,
   "id": "6be5dbb4-21b9-4f66-9a75-4f55df84200c",
   "metadata": {},
   "outputs": [],
   "source": [
    "# ##### 전부 불만족 \n",
    "# #### Mann–Whitney U test 적용"
   ]
  },
  {
   "cell_type": "code",
   "execution_count": 32,
   "id": "db11c1f2-baf6-4294-965f-4073afaddfc6",
   "metadata": {},
   "outputs": [
    {
     "name": "stdout",
     "output_type": "stream",
     "text": [
      "\n",
      "Mann–Whitney U test (비모수 검정) 결과:\n",
      "             변수  비당뇨 (중앙값)  당뇨 (중앙값)  p-value\n",
      "0       DS1_AGE      51.00     56.00  <0.0001\n",
      "1    DS1_WALKFQ   77777.00  77777.00  <0.0001\n",
      "2     DS1_WALKT   77777.00  77777.00   0.0006\n",
      "3     DS1_WAIST      78.00     84.00  <0.0001\n",
      "4       DS1_HIP      93.00     95.00  <0.0001\n",
      "5     DS1_PULSE      68.00     71.00  <0.0001\n",
      "6       DS1_SBP     120.00    128.00  <0.0001\n",
      "7       DS1_DBP      74.00     80.00  <0.0001\n",
      "8       DS1_BMI      23.26     25.31  <0.0001\n",
      "9       DS1_PBF      30.60     33.60  <0.0001\n",
      "10  DS1_BODYFAT      17.40     20.60  <0.0001\n",
      "11   DS1_MUSCLE      36.30     37.30  <0.0001\n",
      "12   DS1_VISFAT       2.00      2.60  <0.0001\n",
      "13      DS1_WHR       0.83      0.88  <0.0001\n",
      "14     DS1_GLU0      89.00    129.00  <0.0001\n",
      "15    DS1_HBA1C       5.50      6.70  <0.0001\n",
      "16   total_exer       0.00      0.00   0.0150\n"
     ]
    }
   ],
   "source": [
    "mw_results2 = []\n",
    "\n",
    "for var in continuous_vars:\n",
    "    try:\n",
    "        data0 = group0[var].dropna()\n",
    "        data1 = group1[var].dropna()\n",
    "        _, p_val = mannwhitneyu(data0, data1, alternative='two-sided')\n",
    "        mw_results2.append({\n",
    "            '변수': var,\n",
    "            '비당뇨 (중앙값)': round(data0.median(), 2),\n",
    "            '당뇨 (중앙값)': round(data1.median(), 2),\n",
    "            'p-value': f'{p_val:.4f}' if p_val >= 0.0001 else '<0.0001'\n",
    "        })\n",
    "    except:\n",
    "        continue\n",
    "\n",
    "mw_df2 = pd.DataFrame(mw_results2)\n",
    "\n",
    "print(\"\\nMann–Whitney U test (비모수 검정) 결과:\")\n",
    "print(mw_df2)"
   ]
  },
  {
   "cell_type": "code",
   "execution_count": 33,
   "id": "8e6bfccd-793e-405f-9bfa-501e63753fcf",
   "metadata": {},
   "outputs": [],
   "source": [
    "#### 전부 유의미함"
   ]
  },
  {
   "cell_type": "markdown",
   "id": "fe632032-874a-41d9-bcf2-09e1442fe786",
   "metadata": {},
   "source": [
    "## 다중공선성"
   ]
  },
  {
   "cell_type": "code",
   "execution_count": 36,
   "id": "5dbcdddb-7636-4197-908a-600680a8f575",
   "metadata": {},
   "outputs": [
    {
     "name": "stdout",
     "output_type": "stream",
     "text": [
      "       Variable        VIF\n",
      "0         const   25700.86\n",
      "1       DS1_AGE       1.42\n",
      "2    DS1_WALKFQ 3607118.53\n",
      "3     DS1_WALKT 3607064.54\n",
      "4     DS1_WAIST     282.81\n",
      "5       DS1_HIP     101.41\n",
      "6     DS1_PULSE       1.05\n",
      "7       DS1_SBP       2.83\n",
      "8       DS1_DBP       2.66\n",
      "9       DS1_BMI       8.53\n",
      "10      DS1_PBF      23.09\n",
      "11  DS1_BODYFAT      41.42\n",
      "12   DS1_MUSCLE       6.59\n",
      "13   DS1_VISFAT       5.23\n",
      "14      DS1_WHR     145.58\n",
      "15     DS1_GLU0       1.08\n",
      "16   total_exer       1.05\n"
     ]
    }
   ],
   "source": [
    "# 여자 다중공선성\n",
    "from statsmodels.stats.outliers_influence import variance_inflation_factor\n",
    "from statsmodels.tools.tools import add_constant\n",
    "\n",
    "pd.set_option('display.float_format', '{:.2f}'.format)\n",
    "\n",
    "# 등분산 만족 + 연속형 변수만 사용 ('target'은 종속 변수라 제외)\n",
    "X = female_df[['DS1_AGE', 'DS1_WALKFQ', 'DS1_WALKT',\n",
    "               'DS1_WAIST', 'DS1_HIP', 'DS1_PULSE', 'DS1_SBP',\n",
    "               'DS1_DBP', 'DS1_BMI', 'DS1_PBF', 'DS1_BODYFAT',\n",
    "               'DS1_MUSCLE', 'DS1_VISFAT', 'DS1_WHR',\n",
    "               'DS1_GLU0', 'total_exer']]\n",
    "\n",
    ")\n",
    "X_const = add_constant(X)\n",
    "\n",
    "# VIF 계산\n",
    "vif_data = pd.DataFrame()\n",
    "vif_data['Variable'] = X_const.columns\n",
    "vif_data['VIF'] = [variance_inflation_factor(X_const.values, i) for i in range(X_const.shape[1])]\n",
    "\n",
    "# VIF 출력\n",
    "print(vif_data)"
   ]
  },
  {
   "cell_type": "code",
   "execution_count": null,
   "id": "5e09454b-11b2-4381-a7d3-4309950335c6",
   "metadata": {},
   "outputs": [],
   "source": []
  }
 ],
 "metadata": {
  "kernelspec": {
   "display_name": "Python 3 (ipykernel)",
   "language": "python",
   "name": "python3"
  },
  "language_info": {
   "codemirror_mode": {
    "name": "ipython",
    "version": 3
   },
   "file_extension": ".py",
   "mimetype": "text/x-python",
   "name": "python",
   "nbconvert_exporter": "python",
   "pygments_lexer": "ipython3",
   "version": "3.12.7"
  }
 },
 "nbformat": 4,
 "nbformat_minor": 5
}
